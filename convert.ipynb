{
 "cells": [
  {
   "cell_type": "code",
   "execution_count": 6,
   "metadata": {},
   "outputs": [
    {
     "name": "stdout",
     "output_type": "stream",
     "text": [
      "YOLO11s summary (fused): 100 layers, 9,416,670 parameters, 0 gradients, 21.3 GFLOPs\n",
      "Ultralytics 8.3.94  Python-3.9.1 torch-1.13.0+cu117 CUDA:0 (NVIDIA GeForce RTX 3070, 8191MiB)\n",
      "\n",
      "\u001b[34m\u001b[1mPyTorch:\u001b[0m starting from 'yolo11_5epoch_16batch.pt' with input shape (1, 3, 640, 640) BCHW and output shape(s) (1, 14, 8400) (18.3 MB)\n",
      "\n",
      "\u001b[34m\u001b[1mONNX:\u001b[0m starting export with onnx 1.14.1 opset 16...\n",
      "\u001b[34m\u001b[1mONNX:\u001b[0m slimming with onnxslim 0.1.36...\n",
      "\u001b[34m\u001b[1mONNX:\u001b[0m export success  13.9s, saved as 'yolo11_5epoch_16batch.onnx' (36.1 MB)\n",
      "\n",
      "Export complete (14.0s)\n",
      "Results saved to \u001b[1mD:\\projects\\visdrone\u001b[0m\n",
      "Predict:         yolo predict task=detect model=yolo11_5epoch_16batch.onnx imgsz=640  \n",
      "Validate:        yolo val task=detect model=yolo11_5epoch_16batch.onnx imgsz=640 data=./VisDrone.yaml  \n",
      "Visualize:       https://netron.app\n"
     ]
    },
    {
     "data": {
      "text/plain": [
       "'yolo11_5epoch_16batch.onnx'"
      ]
     },
     "execution_count": 6,
     "metadata": {},
     "output_type": "execute_result"
    }
   ],
   "source": [
    "from ultralytics import YOLO\n",
    "\n",
    "model_name = 'yolo11_5epoch_16batch'\n",
    "\n",
    "model = YOLO(f'{model_name}.pt')\n",
    "\n",
    "model.fuse()\n",
    "\n",
    "model.export(format=\"onnx\", simplify=True, dynamic=True, device=0)"
   ]
  },
  {
   "cell_type": "code",
   "execution_count": 1,
   "metadata": {},
   "outputs": [
    {
     "name": "stdout",
     "output_type": "stream",
     "text": [
      "YOLO11s summary (fused): 100 layers, 9,416,670 parameters, 0 gradients, 21.3 GFLOPs\n",
      "WARNING  TensorRT requires GPU export, automatically assigning device=0\n",
      "Ultralytics 8.3.94  Python-3.9.1 torch-1.13.0+cu117 CUDA:0 (NVIDIA GeForce RTX 3070, 8191MiB)\n",
      "\n",
      "\u001b[34m\u001b[1mPyTorch:\u001b[0m starting from 'yolo11_5epoch_16batch.pt' with input shape (1, 3, 640, 640) BCHW and output shape(s) (1, 14, 8400) (18.3 MB)\n",
      "engine build\n",
      "\n",
      "\u001b[34m\u001b[1mONNX:\u001b[0m starting export with onnx 1.14.1 opset 16...\n",
      "\u001b[34m\u001b[1mONNX:\u001b[0m slimming with onnxslim 0.1.36...\n",
      "\u001b[34m\u001b[1mONNX:\u001b[0m export success  15.4s, saved as 'yolo11_5epoch_16batch.onnx' (36.1 MB)\n",
      "onnx export\n",
      "import tensorrt\n",
      "C:\\Program Files\\NVIDIA GPU Computing Toolkit\\CUDA\\v11.8\\bin\\nvinfer.dll\n",
      "<CDLL 'C:\\Program Files\\NVIDIA GPU Computing Toolkit\\CUDA\\v11.8\\bin\\nvinfer.dll', handle 7ffdf2950000 at 0x19290244ee0>\n",
      "C:\\Program Files\\NVIDIA GPU Computing Toolkit\\CUDA\\v11.8\\bin\\cublas64_11.dll\n",
      "<CDLL 'C:\\Program Files\\NVIDIA GPU Computing Toolkit\\CUDA\\v11.8\\bin\\cublas64_11.dll', handle 7ffde9ac0000 at 0x19290244070>\n",
      "C:\\Program Files\\NVIDIA GPU Computing Toolkit\\CUDA\\v11.8\\bin\\cublasLt64_11.dll\n",
      "<CDLL 'C:\\Program Files\\NVIDIA GPU Computing Toolkit\\CUDA\\v11.8\\bin\\cublasLt64_11.dll', handle 7ffdc7670000 at 0x19290244f40>\n",
      "C:\\Program Files\\NVIDIA GPU Computing Toolkit\\CUDA\\v11.8\\bin\\cudnn64_8.dll\n",
      "<CDLL 'C:\\Program Files\\NVIDIA GPU Computing Toolkit\\CUDA\\v11.8\\bin\\cudnn64_8.dll', handle 7ffeff560000 at 0x192902440a0>\n",
      "C:\\Program Files\\NVIDIA GPU Computing Toolkit\\CUDA\\v11.8\\bin\\nvinfer_plugin.dll\n",
      "<CDLL 'C:\\Program Files\\NVIDIA GPU Computing Toolkit\\CUDA\\v11.8\\bin\\nvinfer_plugin.dll', handle 7ffdc41d0000 at 0x19290244f10>\n",
      "C:\\Program Files\\NVIDIA GPU Computing Toolkit\\CUDA\\v11.8\\bin\\nvonnxparser.dll\n",
      "<CDLL 'C:\\Program Files\\NVIDIA GPU Computing Toolkit\\CUDA\\v11.8\\bin\\nvonnxparser.dll', handle 7ffdc7440000 at 0x19290244ee0>\n",
      "C:\\Program Files\\NVIDIA GPU Computing Toolkit\\CUDA\\v11.8\\bin\\nvparsers.dll\n",
      "<CDLL 'C:\\Program Files\\NVIDIA GPU Computing Toolkit\\CUDA\\v11.8\\bin\\nvparsers.dll', handle 7ffdc7220000 at 0x192902440a0>\n",
      "import ok\n",
      "check ok\n",
      "\n",
      "\u001b[34m\u001b[1mTensorRT:\u001b[0m starting export with TensorRT 8.6.1...\n",
      "engine build\n",
      "\u001b[34m\u001b[1mTensorRT:\u001b[0m input \"images\" with shape(-1, 3, -1, -1) DataType.FLOAT\n",
      "\u001b[34m\u001b[1mTensorRT:\u001b[0m output \"output0\" with shape(-1, 14, -1) DataType.FLOAT\n",
      "\u001b[34m\u001b[1mTensorRT:\u001b[0m WARNING  'dynamic=True' model requires max batch size, i.e. 'batch=16'\n",
      "\u001b[34m\u001b[1mTensorRT:\u001b[0m building FP16 engine as yolo11_5epoch_16batch.engine\n",
      "\u001b[34m\u001b[1mTensorRT:\u001b[0m export success  504.1s, saved as 'yolo11_5epoch_16batch.engine' (22.5 MB)\n",
      "\n",
      "Export complete (505.9s)\n",
      "Results saved to \u001b[1mD:\\projects\\visdrone\u001b[0m\n",
      "Predict:         yolo predict task=detect model=yolo11_5epoch_16batch.engine imgsz=640 half \n",
      "Validate:        yolo val task=detect model=yolo11_5epoch_16batch.engine imgsz=640 data=./VisDrone.yaml half \n",
      "Visualize:       https://netron.app\n"
     ]
    },
    {
     "data": {
      "text/plain": [
       "'yolo11_5epoch_16batch.engine'"
      ]
     },
     "execution_count": 1,
     "metadata": {},
     "output_type": "execute_result"
    }
   ],
   "source": [
    "from ultralytics import YOLO\n",
    "\n",
    "model_name = 'yolo11_5epoch_16batch'\n",
    "\n",
    "model = YOLO(f'{model_name}.pt')\n",
    "\n",
    "model.fuse()\n",
    "\n",
    "model.export(format=\"engine\", simplify=True, dynamic=True, half=True)\n",
    "\n"
   ]
  },
  {
   "cell_type": "code",
   "execution_count": 3,
   "metadata": {},
   "outputs": [
    {
     "name": "stderr",
     "output_type": "stream",
     "text": [
      "WARNING:root:Please consider to run pre-processing before quantization. Refer to example: https://github.com/microsoft/onnxruntime-inference-examples/blob/main/quantization/image_classification/cpu/ReadMe.md \n"
     ]
    },
    {
     "name": "stdout",
     "output_type": "stream",
     "text": [
      "Ignore MatMul due to non constant B: /[/model/model.10/m/m.0/attn/MatMul]\n",
      "Ignore MatMul due to non constant B: /[/model/model.10/m/m.0/attn/MatMul_1]\n"
     ]
    }
   ],
   "source": [
    "from onnxruntime.quantization import quantize_dynamic, QuantType\n",
    "\n",
    "model_fp32 = f'{model_name}.onnx'\n",
    "model_quant = f'{model_name}.quant.onnx'\n",
    "quantized_model = quantize_dynamic(model_fp32, model_quant)"
   ]
  }
 ],
 "metadata": {
  "kernelspec": {
   "display_name": "Python 3",
   "language": "python",
   "name": "python3"
  },
  "language_info": {
   "codemirror_mode": {
    "name": "ipython",
    "version": 3
   },
   "file_extension": ".py",
   "mimetype": "text/x-python",
   "name": "python",
   "nbconvert_exporter": "python",
   "pygments_lexer": "ipython3",
   "version": "3.9.1"
  }
 },
 "nbformat": 4,
 "nbformat_minor": 2
}
